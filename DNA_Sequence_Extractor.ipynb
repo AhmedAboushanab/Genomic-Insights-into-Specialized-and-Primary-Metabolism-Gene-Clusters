{
  "nbformat": 4,
  "nbformat_minor": 0,
  "metadata": {
    "colab": {
      "provenance": [],
      "mount_file_id": "1E9GmtSaqiRFl2mj8sn_4uCvEeY_VoPZE",
      "authorship_tag": "ABX9TyM3CwoSiiq9S1qdwgd7MS2S",
      "include_colab_link": true
    },
    "kernelspec": {
      "name": "python3",
      "display_name": "Python 3"
    },
    "language_info": {
      "name": "python"
    }
  },
  "cells": [
    {
      "cell_type": "markdown",
      "metadata": {
        "id": "view-in-github",
        "colab_type": "text"
      },
      "source": [
        "<a href=\"https://colab.research.google.com/github/AhmedAboushanab/Genomic-Insights-into-Specialized-and-Primary-Metabolism-Gene-Clusters/blob/main/DNA_Sequence_Extractor.ipynb\" target=\"_parent\"><img src=\"https://colab.research.google.com/assets/colab-badge.svg\" alt=\"Open In Colab\"/></a>"
      ]
    },
    {
      "cell_type": "code",
      "execution_count": null,
      "metadata": {
        "id": "O8oimyoUigyc"
      },
      "outputs": [],
      "source": [
        "pip install biopython pandas"
      ]
    },
    {
      "cell_type": "markdown",
      "source": [
        "# **Nodes are needed**"
      ],
      "metadata": {
        "id": "pMK4M53WpgAY"
      }
    },
    {
      "cell_type": "code",
      "source": [
        "import os\n",
        "from Bio import SeqIO\n",
        "import pandas as pd\n",
        "from google.colab import files\n",
        "\n",
        "def extract_sequences(fasta_path, coords_csv_path, output_fasta_path, output_csv_path):\n",
        "    # Load all sequences in the FASTA file\n",
        "    sequences = SeqIO.to_dict(SeqIO.parse(fasta_path, \"fasta\"))\n",
        "    df = pd.read_csv(coords_csv_path)\n",
        "\n",
        "    sample_id = os.path.splitext(os.path.basename(fasta_path))[0]  # e.g., \"CA_25\"\n",
        "    df_sample = df[df[\"Sample-id\"] == sample_id]\n",
        "\n",
        "    if df_sample.empty:\n",
        "        print(f\"⚠️ No matching entries for {sample_id} in {os.path.basename(coords_csv_path)}\")\n",
        "        return\n",
        "\n",
        "    extracted_records = []\n",
        "    extracted_fasta = []\n",
        "\n",
        "    for idx, row in df_sample.iterrows():\n",
        "        node = str(row['Control']).strip() # Changed 'Node' to 'Control'\n",
        "        start = int(str(row['From']).replace(',', '')) - 1\n",
        "        end = int(str(row['To']).replace(',', ''))\n",
        "        strand = row.get('strand', '+')\n",
        "\n",
        "        # Match sequence header that starts with this node name\n",
        "        matched_id = None\n",
        "        for header in sequences:\n",
        "            if header.startswith(node):\n",
        "                matched_id = header\n",
        "                break\n",
        "\n",
        "        if not matched_id:\n",
        "            print(f\"⚠️ Node {node} not found in {os.path.basename(fasta_path)}\")\n",
        "            continue\n",
        "\n",
        "        full_seq = sequences[matched_id].seq\n",
        "        if end > len(full_seq) or start < 0:\n",
        "            print(f\"⚠️ Invalid coordinates for {matched_id}: {start+1}-{end} exceeds length {len(full_seq)}\")\n",
        "            continue\n",
        "\n",
        "        sub_seq = full_seq[start:end]\n",
        "        if strand == '-':\n",
        "            sub_seq = sub_seq.reverse_complement()\n",
        "\n",
        "        record_id = f\"{sample_id}_{node}_{start+1}_{end}_{strand}\"\n",
        "        extracted_fasta.append(f\">{record_id}\\n{str(sub_seq)}\")\n",
        "        extracted_records.append({\n",
        "            'record_id': record_id,\n",
        "            'sample_id': sample_id,\n",
        "            'node': node, # Keep 'node' for the output CSV if that's the desired column name\n",
        "            'start': start + 1,\n",
        "            'end': end,\n",
        "            'strand': strand,\n",
        "            'sequence': str(sub_seq)\n",
        "        })\n",
        "\n",
        "\n",
        "    if not extracted_records:\n",
        "        print(f\"⚠️ No sequences extracted from {os.path.basename(fasta_path)}.\")\n",
        "        return\n",
        "\n",
        "\n",
        "    with open(output_fasta_path, \"w\") as f:\n",
        "        f.write(\"\\n\".join(extracted_fasta))\n",
        "\n",
        "\n",
        "    pd.DataFrame(extracted_records).to_csv(output_csv_path, index=False)\n",
        "    print(f\"✅ Saved: {output_fasta_path}, {output_csv_path}\")\n",
        "\n",
        "\n",
        "def process_all_fastas_in_folder(input_folder, coords_csv_path, output_folder):\n",
        "    os.makedirs(output_folder, exist_ok=True)\n",
        "\n",
        "    for file in os.listdir(input_folder):\n",
        "        if file.endswith(\".fasta\") or file.endswith(\".fa\"):\n",
        "            full_path = os.path.join(input_folder, file)\n",
        "            base = os.path.splitext(os.path.basename(file))[0]\n",
        "            print(f\"\\n🧬 Processing {file}...\")\n",
        "\n",
        "            output_fasta_path = os.path.join(output_folder, f\"{base}_extracted.fasta\")\n",
        "            output_csv_path = os.path.join(output_folder, f\"{base}_extracted.csv\")\n",
        "\n",
        "            extract_sequences(\n",
        "                fasta_path=full_path,\n",
        "                coords_csv_path=coords_csv_path,\n",
        "                output_fasta_path=output_fasta_path,\n",
        "                output_csv_path=output_csv_path\n",
        "            )"
      ],
      "metadata": {
        "id": "_SbIb0jmR9U8"
      },
      "execution_count": 15,
      "outputs": []
    },
    {
      "cell_type": "code",
      "source": [
        "process_all_fastas_in_folder(\"/content/drive/MyDrive/BGC-Seqs/References\", \"/content/References.csv\", \"/content/drive/MyDrive/Output/References\")"
      ],
      "metadata": {
        "id": "JlihXBzKSCcs"
      },
      "execution_count": null,
      "outputs": []
    },
    {
      "cell_type": "markdown",
      "source": [
        "# **No node needed**"
      ],
      "metadata": {
        "id": "84kffAmipcgW"
      }
    },
    {
      "cell_type": "code",
      "source": [
        "import os\n",
        "from Bio import SeqIO\n",
        "import pandas as pd\n",
        "\n",
        "def extract_sequences(fasta_path, coords_csv_path, output_fasta_path, output_csv_path):\n",
        "    # Load sequences from FASTA\n",
        "    sequences = list(SeqIO.parse(fasta_path, \"fasta\"))\n",
        "    if not sequences:\n",
        "        print(f\"⚠️ No sequences found in {fasta_path}\")\n",
        "        return\n",
        "    if len(sequences) > 1:\n",
        "        print(f\"⚠️ Multiple sequences found in {fasta_path}. Using the first one only.\")\n",
        "\n",
        "    seq_record = sequences[0]  # Use the first sequence in the file\n",
        "    full_seq = seq_record.seq\n",
        "    sample_id = os.path.splitext(os.path.basename(fasta_path))[0]\n",
        "\n",
        "    # Load coordinates\n",
        "    df = pd.read_csv(coords_csv_path)\n",
        "    df_sample = df[df[\"Sample-id\"] == sample_id].copy()\n",
        "\n",
        "    if df_sample.empty:\n",
        "        print(f\"⚠️ No matching entries for {sample_id} in coordinates CSV.\")\n",
        "        return\n",
        "\n",
        "    extracted_records = []\n",
        "    extracted_fasta = []\n",
        "\n",
        "    for _, row in df_sample.iterrows():\n",
        "        start = int(str(row['From']).replace(',', '')) - 1\n",
        "        end = int(str(row['To']).replace(',', ''))\n",
        "        strand = row.get('strand', '+')\n",
        "\n",
        "        if end > len(full_seq) or start < 0:\n",
        "            print(f\"⚠️ Invalid coordinates: {start+1}-{end} > {len(full_seq)}\")\n",
        "            continue\n",
        "\n",
        "        sub_seq = full_seq[start:end]\n",
        "        if strand == '-':\n",
        "            sub_seq = sub_seq.reverse_complement()\n",
        "\n",
        "        record_id = f\"{sample_id}_{start+1}_{end}_{strand}\"\n",
        "        extracted_fasta.append(f\">{record_id}\\n{str(sub_seq)}\")\n",
        "\n",
        "        updated_row = row.copy()\n",
        "        updated_row['record_id'] = record_id\n",
        "        updated_row['sequence'] = str(sub_seq)\n",
        "        extracted_records.append(updated_row)\n",
        "\n",
        "    if not extracted_records:\n",
        "        print(f\"⚠️ No sequences extracted for {sample_id}.\")\n",
        "        return\n",
        "\n",
        "    # Save output\n",
        "    with open(output_fasta_path, \"w\") as f:\n",
        "        f.write(\"\\n\".join(extracted_fasta))\n",
        "    pd.DataFrame(extracted_records).to_csv(output_csv_path, index=False)\n",
        "\n",
        "    print(f\"✅ Saved: {output_fasta_path}, {output_csv_path}\")\n",
        "\n",
        "def process_all_fastas_in_folder(input_folder, coords_csv_path, output_folder):\n",
        "    os.makedirs(output_folder, exist_ok=True)\n",
        "\n",
        "    for file in os.listdir(input_folder):\n",
        "        if file.endswith(\".fasta\") or file.endswith(\".fa\"):\n",
        "            full_path = os.path.join(input_folder, file)\n",
        "            base = os.path.splitext(os.path.basename(file))[0]\n",
        "            print(f\"\\n🧬 Processing {file}...\")\n",
        "\n",
        "            output_fasta_path = os.path.join(output_folder, f\"{base}_extracted.fasta\")\n",
        "            output_csv_path = os.path.join(output_folder, f\"{base}_extracted.csv\")\n",
        "\n",
        "            extract_sequences(\n",
        "                fasta_path=full_path,\n",
        "                coords_csv_path=coords_csv_path,\n",
        "                output_fasta_path=output_fasta_path,\n",
        "                output_csv_path=output_csv_path\n",
        "            )\n"
      ],
      "metadata": {
        "id": "URsM_XWmoIxG"
      },
      "execution_count": 17,
      "outputs": []
    },
    {
      "cell_type": "code",
      "source": [
        "process_all_fastas_in_folder(\"/content/drive/MyDrive/BGC-Seqs/References\", \"/content/References-NRPS.csv\", \"/content/drive/MyDrive/Output/References/NRPS\")"
      ],
      "metadata": {
        "id": "VtV9gV0spsH1"
      },
      "execution_count": null,
      "outputs": []
    },
    {
      "cell_type": "code",
      "source": [
        "process_all_fastas_in_folder(\"/content/drive/MyDrive/BGC-Seqs/References\", \"/content/References-NI-Siderophore.csv\", \"/content/drive/MyDrive/Output/References/NI-Siderophore\")"
      ],
      "metadata": {
        "id": "eX2Nh8HGq6tS"
      },
      "execution_count": null,
      "outputs": []
    }
  ]
}